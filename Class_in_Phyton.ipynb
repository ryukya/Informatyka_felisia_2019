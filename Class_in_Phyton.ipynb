{
 "cells": [
  {
   "cell_type": "code",
   "execution_count": 9,
   "metadata": {},
   "outputs": [],
   "source": [
    "class Rectangle:\n",
    "    def __init__(self, lon, wid):\n",
    "        self.lon= lon\n",
    "        self.wid= wid\n",
    "    def area(self):\n",
    "        self.area1= self.lon*self.wid\n",
    "    def __str__(self):\n",
    "        self.area()\n",
    "        return str(self.area1)   "
   ]
  },
  {
   "cell_type": "code",
   "execution_count": 11,
   "metadata": {},
   "outputs": [
    {
     "name": "stdout",
     "output_type": "stream",
     "text": [
      "10\n"
     ]
    }
   ],
   "source": [
    "p= Rectangle(2,5)\n",
    "print(p)"
   ]
  },
  {
   "cell_type": "code",
   "execution_count": 20,
   "metadata": {},
   "outputs": [],
   "source": [
    "class Prin:\n",
    "    def __init__(self):\n",
    "        self.str1=\"\"\n",
    "    def get_String(self):\n",
    "        self.str1=input(\"please input text : \")\n",
    "    def print_String(self):\n",
    "        print(self.str1.upper())"
   ]
  },
  {
   "cell_type": "code",
   "execution_count": 23,
   "metadata": {},
   "outputs": [
    {
     "name": "stdout",
     "output_type": "stream",
     "text": [
      "please input text : MEngapa kau begitu\n",
      "MENGAPA KAU BEGITU\n"
     ]
    }
   ],
   "source": [
    "a= Prin()\n",
    "a.get_String()\n",
    "a.print_String()"
   ]
  },
  {
   "cell_type": "code",
   "execution_count": 24,
   "metadata": {},
   "outputs": [],
   "source": [
    "class employee:\n",
    "    def __init__(self, name, job, placement):\n",
    "        self.name=name\n",
    "        self.job =job\n",
    "        self. placement= placement\n",
    "    def print_job(self):\n",
    "        print(self.name,\" job is \",self.job)\n",
    "    def print_placement(self):\n",
    "        print(self.name,\" placement is \",self.placement)\n",
    "    "
   ]
  },
  {
   "cell_type": "code",
   "execution_count": 27,
   "metadata": {},
   "outputs": [],
   "source": [
    "pp=employee(\"Hana\",\"Writer\",\"Wroclaw\")\n",
    "pp2=employee(\"John\",\"Editor\",\"Germany\")\n",
    "pp3=employee(\"Hulalala\",\"Boss\",\"USA\")\n"
   ]
  },
  {
   "cell_type": "code",
   "execution_count": 28,
   "metadata": {},
   "outputs": [
    {
     "name": "stdout",
     "output_type": "stream",
     "text": [
      "Hana  job is  Writer\n",
      "John  job is  Editor\n",
      "Hulalala  job is  Boss\n"
     ]
    }
   ],
   "source": [
    "pp.print_job()\n",
    "pp2.print_job()\n",
    "pp3.print_job()"
   ]
  },
  {
   "cell_type": "code",
   "execution_count": 29,
   "metadata": {},
   "outputs": [
    {
     "name": "stdout",
     "output_type": "stream",
     "text": [
      "Hana  placement is  Wroclaw\n",
      "John  placement is  Germany\n",
      "Hulalala  placement is  USA\n"
     ]
    }
   ],
   "source": [
    "pp.print_placement()\n",
    "pp2.print_placement()\n",
    "pp3.print_placement()"
   ]
  }
 ],
 "metadata": {
  "kernelspec": {
   "display_name": "Python 3",
   "language": "python",
   "name": "python3"
  },
  "language_info": {
   "codemirror_mode": {
    "name": "ipython",
    "version": 3
   },
   "file_extension": ".py",
   "mimetype": "text/x-python",
   "name": "python",
   "nbconvert_exporter": "python",
   "pygments_lexer": "ipython3",
   "version": "3.7.1"
  }
 },
 "nbformat": 4,
 "nbformat_minor": 2
}
