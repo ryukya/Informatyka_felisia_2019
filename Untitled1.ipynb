{
 "cells": [
  {
   "cell_type": "markdown",
   "metadata": {},
   "source": [
    "Number 1"
   ]
  },
  {
   "cell_type": "code",
   "execution_count": 38,
   "metadata": {},
   "outputs": [
    {
     "name": "stdout",
     "output_type": "stream",
     "text": [
      "mcmc\n"
     ]
    }
   ],
   "source": [
    "x=\"mama\"\n",
    "print(x.replace('a','c'))"
   ]
  },
  {
   "cell_type": "code",
   "execution_count": 1,
   "metadata": {},
   "outputs": [
    {
     "name": "stdout",
     "output_type": "stream",
     "text": [
      "['Lece', 'MELON', 'Kiwi', 'RAMBUTAN', 'BANANA', 'DURIAN']\n"
     ]
    }
   ],
   "source": [
    "lista=[\"Leca\",\"Melon\",\"Kiwi\",\"Rambutan\",\"Banana\",\"Durian\"]\n",
    "n_list=[]\n",
    "for x in lista:\n",
    "    if len(x)>4:\n",
    "        n_list.append(x.upper())\n",
    "    else:\n",
    "        word=x.replace('a','e')\n",
    "        n_list.append(word)\n",
    "print (n_list)"
   ]
  },
  {
   "cell_type": "markdown",
   "metadata": {},
   "source": [
    "NUMBER 2"
   ]
  },
  {
   "cell_type": "code",
   "execution_count": 3,
   "metadata": {},
   "outputs": [
    {
     "name": "stdout",
     "output_type": "stream",
     "text": [
      "Guess a number between 5 and 9 until you get it right : 9\n",
      "Guess a number between 5 and 9 until you get it right : 8\n",
      "Guess a number between 5 and 9 until you get it right : 6\n",
      "Guess a number between 5 and 9 until you get it right : 7\n",
      "Well guessed !\n"
     ]
    }
   ],
   "source": [
    "import random\n",
    "target_num, guess_num= random.randint(5,9),0\n",
    "while guess_num != target_num:\n",
    "    guess_num=int(input(\"Guess a number between 5 and 9 until you get it right : \"))\n",
    "print(\"Well guessed !\")\n",
    "exit(0)\n",
    "    "
   ]
  },
  {
   "cell_type": "markdown",
   "metadata": {},
   "source": [
    "NUMBER 3"
   ]
  },
  {
   "cell_type": "code",
   "execution_count": 11,
   "metadata": {},
   "outputs": [],
   "source": [
    "def revera (s):\n",
    "    return s[::-1]"
   ]
  },
  {
   "cell_type": "code",
   "execution_count": 13,
   "metadata": {},
   "outputs": [
    {
     "data": {
      "text/plain": [
       "'aneladgaM'"
      ]
     },
     "execution_count": 13,
     "metadata": {},
     "output_type": "execute_result"
    }
   ],
   "source": [
    "revera(\"Magdalena\")"
   ]
  },
  {
   "cell_type": "markdown",
   "metadata": {},
   "source": [
    "NUMBER 4"
   ]
  },
  {
   "cell_type": "code",
   "execution_count": 14,
   "metadata": {},
   "outputs": [],
   "source": [
    "f= lambda x,y: x+y"
   ]
  },
  {
   "cell_type": "code",
   "execution_count": 15,
   "metadata": {},
   "outputs": [
    {
     "name": "stdout",
     "output_type": "stream",
     "text": [
      "1st number argumentkaka\n",
      "2nd number argumentnana\n"
     ]
    },
    {
     "data": {
      "text/plain": [
       "'kakanana'"
      ]
     },
     "execution_count": 15,
     "metadata": {},
     "output_type": "execute_result"
    }
   ],
   "source": [
    "f(input(\"1st number argument\"),input(\"2nd number argument\"))"
   ]
  }
 ],
 "metadata": {
  "kernelspec": {
   "display_name": "Python 3",
   "language": "python",
   "name": "python3"
  },
  "language_info": {
   "codemirror_mode": {
    "name": "ipython",
    "version": 3
   },
   "file_extension": ".py",
   "mimetype": "text/x-python",
   "name": "python",
   "nbconvert_exporter": "python",
   "pygments_lexer": "ipython3",
   "version": "3.7.1"
  }
 },
 "nbformat": 4,
 "nbformat_minor": 2
}
