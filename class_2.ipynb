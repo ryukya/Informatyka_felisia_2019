{
 "cells": [
  {
   "cell_type": "code",
   "execution_count": 4,
   "metadata": {},
   "outputs": [
    {
     "data": {
      "text/plain": [
       "False"
      ]
     },
     "execution_count": 4,
     "metadata": {},
     "output_type": "execute_result"
    }
   ],
   "source": [
    "1 != 1"
   ]
  },
  {
   "cell_type": "code",
   "execution_count": 6,
   "metadata": {},
   "outputs": [
    {
     "name": "stdout",
     "output_type": "stream",
     "text": [
      "Yes\n"
     ]
    }
   ],
   "source": [
    "a = 10\n",
    "b = 10\n",
    "if a==b:\n",
    "    print(\"Yes\")\n",
    "else:\n",
    "    print('No')"
   ]
  },
  {
   "cell_type": "code",
   "execution_count": 7,
   "metadata": {},
   "outputs": [],
   "source": [
    "a = 3\n",
    "b = 2"
   ]
  },
  {
   "cell_type": "code",
   "execution_count": 10,
   "metadata": {},
   "outputs": [
    {
     "name": "stdout",
     "output_type": "stream",
     "text": [
      "3\n"
     ]
    }
   ],
   "source": [
    "if a > b:\n",
    "    print (a)\n",
    "elif a > b:\n",
    "    print (b)\n",
    "else:\n",
    "    print (a+b)"
   ]
  },
  {
   "cell_type": "code",
   "execution_count": 11,
   "metadata": {},
   "outputs": [],
   "source": [
    "animals=[\"cat\",\"monkey\",\"dog\",\"hummingbird\",\"snake\"]\n"
   ]
  },
  {
   "cell_type": "code",
   "execution_count": 17,
   "metadata": {},
   "outputs": [
    {
     "name": "stdout",
     "output_type": "stream",
     "text": [
      "The list has 5 animals and there is a cat in it!\n"
     ]
    }
   ],
   "source": [
    "if len(animals) == 0:\n",
    "    print('List is empty')\n",
    "elif \"cat\" in animals:\n",
    "    print(\"The list has \" +str(len(animals))+\" animals and there is a cat in it!\")\n",
    "else:\n",
    "    print('The list has ' + str(len(animals)) + \" animals and there is no cat in it!\")"
   ]
  },
  {
   "cell_type": "code",
   "execution_count": 14,
   "metadata": {},
   "outputs": [
    {
     "name": "stdout",
     "output_type": "stream",
     "text": [
      "not empty\n"
     ]
    }
   ],
   "source": [
    "if not animals:\n",
    "    print('empty')\n",
    "else:\n",
    "    print('not empty')"
   ]
  },
  {
   "cell_type": "code",
   "execution_count": 18,
   "metadata": {},
   "outputs": [
    {
     "name": "stdout",
     "output_type": "stream",
     "text": [
      "list contain 5 animals and no owl in it!\n"
     ]
    }
   ],
   "source": [
    "if len(animals) == 0:\n",
    "    print('empty')\n",
    "else:\n",
    "    if \"owl\" in animals:\n",
    "        print(\"List contain\" + str(len(animals)) + \" animals and there's owl in it!\")\n",
    "    else:\n",
    "        print(\"list contain \" + str(len(animals)) + \" animals and no owl in it!\")"
   ]
  },
  {
   "cell_type": "code",
   "execution_count": 20,
   "metadata": {},
   "outputs": [],
   "source": [
    "names=[\"Koala\",\"Marzipa\",\"Jimna\",\"Momo\"]"
   ]
  },
  {
   "cell_type": "code",
   "execution_count": 21,
   "metadata": {},
   "outputs": [
    {
     "name": "stdout",
     "output_type": "stream",
     "text": [
      "Koala\n",
      "Marzipa\n",
      "Jimna\n",
      "Momo\n"
     ]
    }
   ],
   "source": [
    "for name in names:\n",
    "    print(name)"
   ]
  },
  {
   "cell_type": "code",
   "execution_count": 24,
   "metadata": {},
   "outputs": [],
   "source": [
    " numbers=[1,24,3,4,5]"
   ]
  },
  {
   "cell_type": "code",
   "execution_count": 26,
   "metadata": {},
   "outputs": [
    {
     "name": "stdout",
     "output_type": "stream",
     "text": [
      "1\n",
      "576\n",
      "9\n",
      "16\n",
      "25\n"
     ]
    }
   ],
   "source": [
    "for number in numbers:\n",
    "    print(number*number)"
   ]
  },
  {
   "cell_type": "code",
   "execution_count": 36,
   "metadata": {},
   "outputs": [
    {
     "name": "stdout",
     "output_type": "stream",
     "text": [
      "Input the dog's age in human years :3\n"
     ]
    }
   ],
   "source": [
    "age = int(input(\"Input the dog's age in human years :\"))"
   ]
  },
  {
   "cell_type": "code",
   "execution_count": 46,
   "metadata": {},
   "outputs": [],
   "source": [
    "def dog_age(age):\n",
    "    if age <=0:\n",
    "        print(\"Your input is not valid\")\n",
    "    elif age <= 2:\n",
    "        print(\"dog's real age : \" +str(age*10.5))\n",
    "    else:\n",
    "        age1= age-2\n",
    "        age1= (2*10.5)+4*age1\n",
    "        print(\"Dog's real age : \"+ str(age1))"
   ]
  },
  {
   "cell_type": "code",
   "execution_count": 47,
   "metadata": {},
   "outputs": [
    {
     "name": "stdout",
     "output_type": "stream",
     "text": [
      "Your input is not valid\n"
     ]
    }
   ],
   "source": [
    "dog_age(0)"
   ]
  },
  {
   "cell_type": "code",
   "execution_count": 48,
   "metadata": {},
   "outputs": [
    {
     "name": "stdout",
     "output_type": "stream",
     "text": [
      "Dog's real age : 25.0\n"
     ]
    }
   ],
   "source": [
    "dog_age(3)"
   ]
  },
  {
   "cell_type": "code",
   "execution_count": 49,
   "metadata": {},
   "outputs": [
    {
     "name": "stdout",
     "output_type": "stream",
     "text": [
      "dog's real age : 21.0\n"
     ]
    }
   ],
   "source": [
    "dog_age(2)"
   ]
  },
  {
   "cell_type": "code",
   "execution_count": 54,
   "metadata": {},
   "outputs": [
    {
     "name": "stdout",
     "output_type": "stream",
     "text": [
      "Input the dog's age in human years : 3\n",
      "Dog's real age : 25.0\n"
     ]
    }
   ],
   "source": [
    "age= dog_age(int(input(\"Input the dog's age in human years : \")))"
   ]
  },
  {
   "cell_type": "code",
   "execution_count": 55,
   "metadata": {},
   "outputs": [
    {
     "name": "stdout",
     "output_type": "stream",
     "text": [
      "0\n",
      "1\n",
      "2\n",
      "3\n",
      "4\n",
      "5\n"
     ]
    }
   ],
   "source": [
    "i =0\n",
    "while i < 6:\n",
    "    print(i)\n",
    "    i +=1"
   ]
  },
  {
   "cell_type": "code",
   "execution_count": 61,
   "metadata": {},
   "outputs": [],
   "source": [
    "import random\n",
    "target_num, guess_num= random.randint(1,10),0"
   ]
  },
  {
   "cell_type": "code",
   "execution_count": 62,
   "metadata": {},
   "outputs": [
    {
     "name": "stdout",
     "output_type": "stream",
     "text": [
      "Guess a number between 1 and 10  until you get it right! 0\n",
      "Sorry... you are wrong! try again..\n",
      "Guess a number between 1 and 10  until you get it right! 2\n",
      "Sorry... you are wrong! try again..\n",
      "Guess a number between 1 and 10  until you get it right! 3\n",
      "Sorry... you are wrong! try again..\n",
      "Guess a number between 1 and 10  until you get it right! 5\n",
      "Sorry... you are wrong! try again..\n",
      "Guess a number between 1 and 10  until you get it right! 9\n",
      "Sorry... you are wrong! try again..\n",
      "Guess a number between 1 and 10  until you get it right! 10\n",
      "You are correct! the hidden number is 10\n"
     ]
    }
   ],
   "source": [
    "while guess_num != target_num:\n",
    "    guess_num=int(input(\"Guess a number between 1 and 10  until you get it right! \"))\n",
    "    if guess_num != target_num:\n",
    "        print(\"Sorry... you are wrong! try again..\")\n",
    "print(\"You are correct! the hidden number is \" +str(target_num))"
   ]
  },
  {
   "cell_type": "code",
   "execution_count": 91,
   "metadata": {},
   "outputs": [],
   "source": [
    "import random\n",
    "target_num, guess_num= random.randint(1,10),0"
   ]
  },
  {
   "cell_type": "code",
   "execution_count": 92,
   "metadata": {},
   "outputs": [
    {
     "name": "stdout",
     "output_type": "stream",
     "text": [
      "4-0\n"
     ]
    }
   ],
   "source": [
    "print (str(target_num) +\"-\"+str(guess_num))"
   ]
  },
  {
   "cell_type": "code",
   "execution_count": 93,
   "metadata": {},
   "outputs": [],
   "source": [
    "a , b = \"jili\", \"anto\""
   ]
  },
  {
   "cell_type": "code",
   "execution_count": 95,
   "metadata": {},
   "outputs": [
    {
     "name": "stdout",
     "output_type": "stream",
     "text": [
      "jili bukan anto\n"
     ]
    }
   ],
   "source": [
    "print(a+\" bukan \"+b)"
   ]
  },
  {
   "cell_type": "code",
   "execution_count": 99,
   "metadata": {},
   "outputs": [],
   "source": [
    "def guess_numer():\n",
    "    import random\n",
    "    target_num, guess_num= random.randint(1,10),0\n",
    "    while guess_num != target_num:\n",
    "        guess_num=int(input(\"Guess a number between 1 and 10  until you get it right! \"))\n",
    "        if guess_num != target_num:\n",
    "            print(\"Sorry... you are wrong! try again..\")\n",
    "    print(\"Well guessed! The hidden number is \" +str(target_num))"
   ]
  },
  {
   "cell_type": "code",
   "execution_count": 100,
   "metadata": {},
   "outputs": [
    {
     "name": "stdout",
     "output_type": "stream",
     "text": [
      "Guess a number between 1 and 10  until you get it right! 3\n",
      "Sorry... you are wrong! try again..\n",
      "Guess a number between 1 and 10  until you get it right! 3\n",
      "Sorry... you are wrong! try again..\n",
      "Guess a number between 1 and 10  until you get it right! 1\n",
      "Sorry... you are wrong! try again..\n",
      "Guess a number between 1 and 10  until you get it right! 2\n",
      "Sorry... you are wrong! try again..\n",
      "Guess a number between 1 and 10  until you get it right! 4\n",
      "Sorry... you are wrong! try again..\n",
      "Guess a number between 1 and 10  until you get it right! 7\n",
      "Sorry... you are wrong! try again..\n",
      "Guess a number between 1 and 10  until you get it right! 5\n",
      "Well guessed! The hidden number is 5\n"
     ]
    }
   ],
   "source": [
    "guess_numer()"
   ]
  },
  {
   "cell_type": "code",
   "execution_count": null,
   "metadata": {},
   "outputs": [],
   "source": []
  }
 ],
 "metadata": {
  "kernelspec": {
   "display_name": "Python 3",
   "language": "python",
   "name": "python3"
  },
  "language_info": {
   "codemirror_mode": {
    "name": "ipython",
    "version": 3
   },
   "file_extension": ".py",
   "mimetype": "text/x-python",
   "name": "python",
   "nbconvert_exporter": "python",
   "pygments_lexer": "ipython3",
   "version": "3.7.1"
  }
 },
 "nbformat": 4,
 "nbformat_minor": 2
}
