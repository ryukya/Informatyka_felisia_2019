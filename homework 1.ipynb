{
 "cells": [
  {
   "cell_type": "code",
   "execution_count": 13,
   "metadata": {},
   "outputs": [],
   "source": [
    "\n",
    "def calculates():\n",
    "  exit= False\n",
    "  lists=[]\n",
    "  num = input(\"Please input a number \")\n",
    "  while not exit:\n",
    "    lists.append(int(num))\n",
    "    num = input(\"Please input a number :\")\n",
    "    if num == \"q\": \n",
    "      exit= True\n",
    "  print (lists)\n",
    "  sums= 1\n",
    "  for sum in lists:\n",
    "    sums *= sum \n",
    "  ave= sums / len(lists)\n",
    "  print(\"total object = \"+ str(len(lists))+\" with total product =\"+str(sums)+\" and average = \"+str(ave))\n"
   ]
  },
  {
   "cell_type": "code",
   "execution_count": 14,
   "metadata": {},
   "outputs": [
    {
     "name": "stdout",
     "output_type": "stream",
     "text": [
      "Please input a number 5\n",
      "Please input a number :5\n",
      "Please input a number :2\n",
      "Please input a number :q\n",
      "[5, 5, 2]\n",
      "total object = 3 with total product =50 and average = 16.666666666666668\n"
     ]
    }
   ],
   "source": [
    "calculates()"
   ]
  }
 ],
 "metadata": {
  "kernelspec": {
   "display_name": "Python 3",
   "language": "python",
   "name": "python3"
  },
  "language_info": {
   "codemirror_mode": {
    "name": "ipython",
    "version": 3
   },
   "file_extension": ".py",
   "mimetype": "text/x-python",
   "name": "python",
   "nbconvert_exporter": "python",
   "pygments_lexer": "ipython3",
   "version": "3.7.1"
  }
 },
 "nbformat": 4,
 "nbformat_minor": 2
}
